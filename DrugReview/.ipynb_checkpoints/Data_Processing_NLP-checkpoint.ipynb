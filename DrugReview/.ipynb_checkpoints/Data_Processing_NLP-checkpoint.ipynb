{
 "cells": [
  {
   "cell_type": "markdown",
   "metadata": {},
   "source": [
    "## Import Libraries"
   ]
  },
  {
   "cell_type": "code",
   "execution_count": 1,
   "metadata": {},
   "outputs": [],
   "source": [
    "SparkContext.setSystemProperty('spark.executor.pyspark.memory', '8g')\n",
    "from pyspark import SparkFiles\n",
    "import os\n",
    "from vaderSentiment.vaderSentiment import SentimentIntensityAnalyzer\n",
    "import pandas as pd\n",
    "from pyspark.mllib.util import MLUtils"
   ]
  },
  {
   "cell_type": "code",
   "execution_count": 2,
   "metadata": {},
   "outputs": [],
   "source": [
    "#!pip install pytest-shutil"
   ]
  },
  {
   "cell_type": "code",
   "execution_count": 3,
   "metadata": {},
   "outputs": [],
   "source": [
    "#import pickle"
   ]
  },
  {
   "cell_type": "code",
   "execution_count": 4,
   "metadata": {},
   "outputs": [],
   "source": [
    "#!pip install textblob"
   ]
  },
  {
   "cell_type": "code",
   "execution_count": 5,
   "metadata": {},
   "outputs": [],
   "source": [
    "#!pip install vaderSentiment"
   ]
  },
  {
   "cell_type": "code",
   "execution_count": 6,
   "metadata": {},
   "outputs": [
    {
     "name": "stdout",
     "output_type": "stream",
     "text": [
      "Wall time: 40.3 s\n"
     ]
    }
   ],
   "source": [
    "%%time\n",
    "## Testing the combined CSV from S3 bucket.\n",
    "url= \"https://icdrive1.s3.amazonaws.com/drug_review_data_combined.csv\"\n",
    "#url=\"https://icdrive1.s3.amazonaws.com/drug-use-by-age.csv\"\n",
    "spark.sparkContext.addFile(url)\n",
    "df_combined = spark.read.option('header', 'true').csv(SparkFiles.get(\"drug_review_data_combined.csv\"), inferSchema=True, sep=\",\", multiLine=True)\n"
   ]
  },
  {
   "cell_type": "markdown",
   "metadata": {},
   "source": [
    "**Build Pandas Dataframe for perfroming Sentimental Analysis**"
   ]
  },
  {
   "cell_type": "code",
   "execution_count": 8,
   "metadata": {},
   "outputs": [],
   "source": [
    "train_df = df_combined.toPandas()\n",
    "train_df[\"pos\"] = \"\"\n",
    "train_df[\"neg\"] = \"\""
   ]
  },
  {
   "cell_type": "code",
   "execution_count": 9,
   "metadata": {},
   "outputs": [],
   "source": [
    "train_df['label'] = train_df['rating'].apply(lambda x: 1 if x>5 else 0)"
   ]
  },
  {
   "cell_type": "code",
   "execution_count": 10,
   "metadata": {},
   "outputs": [
    {
     "data": {
      "text/html": [
       "<div>\n",
       "<style scoped>\n",
       "    .dataframe tbody tr th:only-of-type {\n",
       "        vertical-align: middle;\n",
       "    }\n",
       "\n",
       "    .dataframe tbody tr th {\n",
       "        vertical-align: top;\n",
       "    }\n",
       "\n",
       "    .dataframe thead th {\n",
       "        text-align: right;\n",
       "    }\n",
       "</style>\n",
       "<table border=\"1\" class=\"dataframe\">\n",
       "  <thead>\n",
       "    <tr style=\"text-align: right;\">\n",
       "      <th></th>\n",
       "      <th>_c0</th>\n",
       "      <th>uniqueID</th>\n",
       "      <th>drugName</th>\n",
       "      <th>condition</th>\n",
       "      <th>review</th>\n",
       "      <th>rating</th>\n",
       "      <th>usefulCount</th>\n",
       "      <th>review_date</th>\n",
       "      <th>review_outcome</th>\n",
       "      <th>pos</th>\n",
       "      <th>neg</th>\n",
       "      <th>label</th>\n",
       "    </tr>\n",
       "  </thead>\n",
       "  <tbody>\n",
       "    <tr>\n",
       "      <td>0</td>\n",
       "      <td>0</td>\n",
       "      <td>206461</td>\n",
       "      <td>Valsartan</td>\n",
       "      <td>Left Ventricular Dysfunction</td>\n",
       "      <td>It has no side effect, I take it in combinatio...</td>\n",
       "      <td>9</td>\n",
       "      <td>27</td>\n",
       "      <td>2012-05-20</td>\n",
       "      <td>Positive</td>\n",
       "      <td></td>\n",
       "      <td></td>\n",
       "      <td>1</td>\n",
       "    </tr>\n",
       "    <tr>\n",
       "      <td>1</td>\n",
       "      <td>1</td>\n",
       "      <td>95260</td>\n",
       "      <td>Guanfacine</td>\n",
       "      <td>ADHD</td>\n",
       "      <td>My son is halfway through his fourth week of I...</td>\n",
       "      <td>8</td>\n",
       "      <td>192</td>\n",
       "      <td>2010-04-27</td>\n",
       "      <td>Positive</td>\n",
       "      <td></td>\n",
       "      <td></td>\n",
       "      <td>1</td>\n",
       "    </tr>\n",
       "    <tr>\n",
       "      <td>2</td>\n",
       "      <td>2</td>\n",
       "      <td>92703</td>\n",
       "      <td>Lybrel</td>\n",
       "      <td>Birth Control</td>\n",
       "      <td>I used to take another oral contraceptive, whi...</td>\n",
       "      <td>5</td>\n",
       "      <td>17</td>\n",
       "      <td>2009-12-14</td>\n",
       "      <td>Negative</td>\n",
       "      <td></td>\n",
       "      <td></td>\n",
       "      <td>0</td>\n",
       "    </tr>\n",
       "    <tr>\n",
       "      <td>3</td>\n",
       "      <td>3</td>\n",
       "      <td>138000</td>\n",
       "      <td>Ortho Evra</td>\n",
       "      <td>Birth Control</td>\n",
       "      <td>This is my first time using any form of birth ...</td>\n",
       "      <td>8</td>\n",
       "      <td>10</td>\n",
       "      <td>2015-11-03</td>\n",
       "      <td>Positive</td>\n",
       "      <td></td>\n",
       "      <td></td>\n",
       "      <td>1</td>\n",
       "    </tr>\n",
       "    <tr>\n",
       "      <td>4</td>\n",
       "      <td>4</td>\n",
       "      <td>35696</td>\n",
       "      <td>Buprenorphine / naloxone</td>\n",
       "      <td>Opiate Dependence</td>\n",
       "      <td>Suboxone has completely turned my life around....</td>\n",
       "      <td>9</td>\n",
       "      <td>37</td>\n",
       "      <td>2016-11-27</td>\n",
       "      <td>Positive</td>\n",
       "      <td></td>\n",
       "      <td></td>\n",
       "      <td>1</td>\n",
       "    </tr>\n",
       "  </tbody>\n",
       "</table>\n",
       "</div>"
      ],
      "text/plain": [
       "   _c0  uniqueID                  drugName                     condition  \\\n",
       "0    0    206461                 Valsartan  Left Ventricular Dysfunction   \n",
       "1    1     95260                Guanfacine                          ADHD   \n",
       "2    2     92703                    Lybrel                 Birth Control   \n",
       "3    3    138000                Ortho Evra                 Birth Control   \n",
       "4    4     35696  Buprenorphine / naloxone             Opiate Dependence   \n",
       "\n",
       "                                              review  rating  usefulCount  \\\n",
       "0  It has no side effect, I take it in combinatio...       9           27   \n",
       "1  My son is halfway through his fourth week of I...       8          192   \n",
       "2  I used to take another oral contraceptive, whi...       5           17   \n",
       "3  This is my first time using any form of birth ...       8           10   \n",
       "4  Suboxone has completely turned my life around....       9           37   \n",
       "\n",
       "  review_date review_outcome pos neg  label  \n",
       "0  2012-05-20       Positive              1  \n",
       "1  2010-04-27       Positive              1  \n",
       "2  2009-12-14       Negative              0  \n",
       "3  2015-11-03       Positive              1  \n",
       "4  2016-11-27       Positive              1  "
      ]
     },
     "execution_count": 10,
     "metadata": {},
     "output_type": "execute_result"
    }
   ],
   "source": [
    "train_df.head()"
   ]
  },
  {
   "cell_type": "markdown",
   "metadata": {},
   "source": [
    "## Perform Sentiment Analysis on Training Data"
   ]
  },
  {
   "cell_type": "code",
   "execution_count": 11,
   "metadata": {},
   "outputs": [],
   "source": [
    "analyzer = SentimentIntensityAnalyzer()"
   ]
  },
  {
   "cell_type": "code",
   "execution_count": 12,
   "metadata": {},
   "outputs": [
    {
     "data": {
      "text/plain": [
       "{'neg': 0.136, 'neu': 0.864, 'pos': 0.0, 'compound': -0.296}"
      ]
     },
     "execution_count": 12,
     "metadata": {},
     "output_type": "execute_result"
    }
   ],
   "source": [
    "res = analyzer.polarity_scores(train_df[\"review\"][0])\n",
    "res"
   ]
  },
  {
   "cell_type": "code",
   "execution_count": 13,
   "metadata": {},
   "outputs": [
    {
     "name": "stdout",
     "output_type": "stream",
     "text": [
      "Wall time: 6min 15s\n"
     ]
    }
   ],
   "source": [
    "%%time\n",
    "#review_df = review_df.withColumnRenamed(\"review_outcome\", \"label\")\n",
    "train_df[\"pos\"] = train_df[\"review\"].apply(lambda x: analyzer.polarity_scores(x)['pos'])"
   ]
  },
  {
   "cell_type": "code",
   "execution_count": 14,
   "metadata": {},
   "outputs": [
    {
     "name": "stdout",
     "output_type": "stream",
     "text": [
      "Wall time: 0 ns\n"
     ]
    }
   ],
   "source": [
    "%%time\n",
    "#result = train_df[\"review\"].apply(lambda x: analyzer.polarity_scores(x))"
   ]
  },
  {
   "cell_type": "code",
   "execution_count": 15,
   "metadata": {},
   "outputs": [
    {
     "name": "stdout",
     "output_type": "stream",
     "text": [
      "Wall time: 6min 4s\n"
     ]
    }
   ],
   "source": [
    "%%time\n",
    "train_df[\"neg\"] = train_df[\"review\"].apply(lambda x: analyzer.polarity_scores(x)['neg'])"
   ]
  },
  {
   "cell_type": "code",
   "execution_count": 16,
   "metadata": {},
   "outputs": [
    {
     "data": {
      "text/html": [
       "<div>\n",
       "<style scoped>\n",
       "    .dataframe tbody tr th:only-of-type {\n",
       "        vertical-align: middle;\n",
       "    }\n",
       "\n",
       "    .dataframe tbody tr th {\n",
       "        vertical-align: top;\n",
       "    }\n",
       "\n",
       "    .dataframe thead th {\n",
       "        text-align: right;\n",
       "    }\n",
       "</style>\n",
       "<table border=\"1\" class=\"dataframe\">\n",
       "  <thead>\n",
       "    <tr style=\"text-align: right;\">\n",
       "      <th></th>\n",
       "      <th>_c0</th>\n",
       "      <th>uniqueID</th>\n",
       "      <th>drugName</th>\n",
       "      <th>condition</th>\n",
       "      <th>review</th>\n",
       "      <th>rating</th>\n",
       "      <th>usefulCount</th>\n",
       "      <th>review_date</th>\n",
       "      <th>review_outcome</th>\n",
       "      <th>pos</th>\n",
       "      <th>neg</th>\n",
       "      <th>label</th>\n",
       "    </tr>\n",
       "  </thead>\n",
       "  <tbody>\n",
       "    <tr>\n",
       "      <td>0</td>\n",
       "      <td>0</td>\n",
       "      <td>206461</td>\n",
       "      <td>Valsartan</td>\n",
       "      <td>Left Ventricular Dysfunction</td>\n",
       "      <td>It has no side effect, I take it in combinatio...</td>\n",
       "      <td>9</td>\n",
       "      <td>27</td>\n",
       "      <td>2012-05-20</td>\n",
       "      <td>Positive</td>\n",
       "      <td>0.000</td>\n",
       "      <td>0.136</td>\n",
       "      <td>1</td>\n",
       "    </tr>\n",
       "    <tr>\n",
       "      <td>1</td>\n",
       "      <td>1</td>\n",
       "      <td>95260</td>\n",
       "      <td>Guanfacine</td>\n",
       "      <td>ADHD</td>\n",
       "      <td>My son is halfway through his fourth week of I...</td>\n",
       "      <td>8</td>\n",
       "      <td>192</td>\n",
       "      <td>2010-04-27</td>\n",
       "      <td>Positive</td>\n",
       "      <td>0.111</td>\n",
       "      <td>0.018</td>\n",
       "      <td>1</td>\n",
       "    </tr>\n",
       "    <tr>\n",
       "      <td>2</td>\n",
       "      <td>2</td>\n",
       "      <td>92703</td>\n",
       "      <td>Lybrel</td>\n",
       "      <td>Birth Control</td>\n",
       "      <td>I used to take another oral contraceptive, whi...</td>\n",
       "      <td>5</td>\n",
       "      <td>17</td>\n",
       "      <td>2009-12-14</td>\n",
       "      <td>Negative</td>\n",
       "      <td>0.083</td>\n",
       "      <td>0.062</td>\n",
       "      <td>0</td>\n",
       "    </tr>\n",
       "    <tr>\n",
       "      <td>3</td>\n",
       "      <td>3</td>\n",
       "      <td>138000</td>\n",
       "      <td>Ortho Evra</td>\n",
       "      <td>Birth Control</td>\n",
       "      <td>This is my first time using any form of birth ...</td>\n",
       "      <td>8</td>\n",
       "      <td>10</td>\n",
       "      <td>2015-11-03</td>\n",
       "      <td>Positive</td>\n",
       "      <td>0.093</td>\n",
       "      <td>0.027</td>\n",
       "      <td>1</td>\n",
       "    </tr>\n",
       "    <tr>\n",
       "      <td>4</td>\n",
       "      <td>4</td>\n",
       "      <td>35696</td>\n",
       "      <td>Buprenorphine / naloxone</td>\n",
       "      <td>Opiate Dependence</td>\n",
       "      <td>Suboxone has completely turned my life around....</td>\n",
       "      <td>9</td>\n",
       "      <td>37</td>\n",
       "      <td>2016-11-27</td>\n",
       "      <td>Positive</td>\n",
       "      <td>0.178</td>\n",
       "      <td>0.064</td>\n",
       "      <td>1</td>\n",
       "    </tr>\n",
       "  </tbody>\n",
       "</table>\n",
       "</div>"
      ],
      "text/plain": [
       "   _c0  uniqueID                  drugName                     condition  \\\n",
       "0    0    206461                 Valsartan  Left Ventricular Dysfunction   \n",
       "1    1     95260                Guanfacine                          ADHD   \n",
       "2    2     92703                    Lybrel                 Birth Control   \n",
       "3    3    138000                Ortho Evra                 Birth Control   \n",
       "4    4     35696  Buprenorphine / naloxone             Opiate Dependence   \n",
       "\n",
       "                                              review  rating  usefulCount  \\\n",
       "0  It has no side effect, I take it in combinatio...       9           27   \n",
       "1  My son is halfway through his fourth week of I...       8          192   \n",
       "2  I used to take another oral contraceptive, whi...       5           17   \n",
       "3  This is my first time using any form of birth ...       8           10   \n",
       "4  Suboxone has completely turned my life around....       9           37   \n",
       "\n",
       "  review_date review_outcome    pos    neg  label  \n",
       "0  2012-05-20       Positive  0.000  0.136      1  \n",
       "1  2010-04-27       Positive  0.111  0.018      1  \n",
       "2  2009-12-14       Negative  0.083  0.062      0  \n",
       "3  2015-11-03       Positive  0.093  0.027      1  \n",
       "4  2016-11-27       Positive  0.178  0.064      1  "
      ]
     },
     "execution_count": 16,
     "metadata": {},
     "output_type": "execute_result"
    }
   ],
   "source": [
    "# Finding the length of review\n",
    "#from pyspark.sql.functions import length\n",
    "#review_df = review_df.withColumn('review_length',length(review_df['review']))\n",
    "#review_df.cache()\n",
    "#review_df.show()\n",
    "train_df.head()"
   ]
  },
  {
   "cell_type": "code",
   "execution_count": 19,
   "metadata": {},
   "outputs": [],
   "source": [
    "#train_df.to_csv('https://icdrive1.s3.amazonaws.com/drug_review_data_cleaned.csv', index=False)\n",
    "train_df.to_csv('drug_review_data_cleaned.csv')"
   ]
  },
  {
   "cell_type": "markdown",
   "metadata": {},
   "source": [
    "## Put Pandas Dataframe into Spark Dataframe with selected columns"
   ]
  },
  {
   "cell_type": "code",
   "execution_count": 20,
   "metadata": {},
   "outputs": [
    {
     "name": "stdout",
     "output_type": "stream",
     "text": [
      "Wall time: 10.6 s\n"
     ]
    }
   ],
   "source": [
    "%%time\n",
    "tr_spark_df = spark.createDataFrame(train_df[[\"condition\",\"review\",\"pos\",\"neg\",\"label\"]])"
   ]
  },
  {
   "cell_type": "markdown",
   "metadata": {},
   "source": [
    "## Create Data Pipeline"
   ]
  },
  {
   "cell_type": "code",
   "execution_count": 21,
   "metadata": {},
   "outputs": [
    {
     "name": "stdout",
     "output_type": "stream",
     "text": [
      "+----------------------------+--------------------------------------------------------------------------------------------------------------------------------------------------------------------------------------------------------------------------------------------------------------------------------------------------------------------------------------------------------------------------------------------------------------------------------------------------------------------------------------------------------------------------------------------------------------------------------------------------------------------------------------------------------------------------------------------------------------------------------------------------------------------------------------+-----+-----+-----+------------------------------------------------------------------------------------------------------------------------------------------------------------------------------------------------------------------------------------------------------------------------------------------------------------------------------------------------------------------------------------------------------------------------------------------------------------------------------------------------------------------------------------------------------------------------------------------------------------------------------------------------------------------------------------------------------------------------------------------------------------------------------------------------------------------------------------------------------------------------------------------------------------------------------------+\n",
      "|condition                   |review                                                                                                                                                                                                                                                                                                                                                                                                                                                                                                                                                                                                                                                                                                                                                                                |pos  |neg  |label|token_text                                                                                                                                                                                                                                                                                                                                                                                                                                                                                                                                                                                                                                                                                                                                                                                                                                                                                                                          |\n",
      "+----------------------------+--------------------------------------------------------------------------------------------------------------------------------------------------------------------------------------------------------------------------------------------------------------------------------------------------------------------------------------------------------------------------------------------------------------------------------------------------------------------------------------------------------------------------------------------------------------------------------------------------------------------------------------------------------------------------------------------------------------------------------------------------------------------------------------+-----+-----+-----+------------------------------------------------------------------------------------------------------------------------------------------------------------------------------------------------------------------------------------------------------------------------------------------------------------------------------------------------------------------------------------------------------------------------------------------------------------------------------------------------------------------------------------------------------------------------------------------------------------------------------------------------------------------------------------------------------------------------------------------------------------------------------------------------------------------------------------------------------------------------------------------------------------------------------------+\n",
      "|Left Ventricular Dysfunction|It has no side effect, I take it in combination of Bystolic 5 Mg and Fish Oil                                                                                                                                                                                                                                                                                                                                                                                                                                                                                                                                                                                                                                                                                                         |0.0  |0.136|1    |[it, has, no, side, effect,, i, take, it, in, combination, of, bystolic, 5, mg, and, fish, oil]                                                                                                                                                                                                                                                                                                                                                                                                                                                                                                                                                                                                                                                                                                                                                                                                                                     |\n",
      "|ADHD                        |My son is halfway through his fourth week of Intuniv. We became concerned when he began this last week, when he started taking the highest dose he will be on. For two days, he could hardly get out of bed, was very cranky, and slept for nearly 8 hours on a drive home from school vacation (very unusual for him.) I called his doctor on Monday morning and she said to stick it out a few days. See how he did at school, and with getting up in the morning. The last two days have been problem free. He is MUCH more agreeable than ever. He is less emotional (a good thing), less cranky. He is remembering all the things he should. Overall his behavior is better. \n",
      "We have tried many different medications and so far this is the most effective.                    |0.111|0.018|1    |[my, son, is, halfway, through, his, fourth, week, of, intuniv., we, became, concerned, when, he, began, this, last, week,, when, he, started, taking, the, highest, dose, he, will, be, on., for, two, days,, he, could, hardly, get, out, of, bed,, was, very, cranky,, and, slept, for, nearly, 8, hours, on, a, drive, home, from, school, vacation, (very, unusual, for, him.), i, called, his, doctor, on, monday, morning, and, she, said, to, stick, it, out, a, few, days., see, how, he, did, at, school,, and, with, getting, up, in, the, morning., the, last, two, days, have, been, problem, free., he, is, much, more, agreeable, than, ever., he, is, less, emotional, (a, good, thing),, less, cranky., he, is, remembering, all, the, things, he, should., overall, his, behavior, is, better., , we, have, tried, many, different, medications, and, so, far, this, is, the, most, effective.]                   |\n",
      "|Birth Control               |I used to take another oral contraceptive, which had 21 pill cycle, and was very happy- very light periods, max 5 days, no other side effects. But it contained hormone gestodene, which is not available in US, so I switched to Lybrel, because the ingredients are similar. When my other pills ended, I started Lybrel immediately, on my first day of period, as the instructions said. And the period lasted for two weeks. When taking the second pack- same two weeks. And now, with third pack things got even worse- my third period lasted for two weeks and now it's the end of the third week- I still have daily brown discharge.\n",
      "The positive side is that I didn't have any other side effects. The idea of being period free was so tempting... Alas.                |0.083|0.062|0    |[i, used, to, take, another, oral, contraceptive,, which, had, 21, pill, cycle,, and, was, very, happy-, very, light, periods,, max, 5, days,, no, other, side, effects., but, it, contained, hormone, gestodene,, which, is, not, available, in, us,, so, i, switched, to, lybrel,, because, the, ingredients, are, similar., when, my, other, pills, ended,, i, started, lybrel, immediately,, on, my, first, day, of, period,, as, the, instructions, said., and, the, period, lasted, for, two, weeks., when, taking, the, second, pack-, same, two, weeks., and, now,, with, third, pack, things, got, even, worse-, my, third, period, lasted, for, two, weeks, and, now, it's, the, end, of, the, third, week-, i, still, have, daily, brown, discharge., the, positive, side, is, that, i, didn't, have, any, other, side, effects., the, idea, of, being, period, free, was, so, tempting..., alas.]                       |\n",
      "|Birth Control               |This is my first time using any form of birth control. I'm glad I went with the patch, I have been on it for 8 months. At first It decreased my libido but that subsided. The only downside is that it made my periods longer (5-6 days to be exact) I used to only have periods for 3-4 days max also made my cramps intense for the first two days of my period, I never had cramps before using birth control. Other than that in happy with the patch                                                                                                                                                                                                                                                                                                                             |0.093|0.027|1    |[this, is, my, first, time, using, any, form, of, birth, control., i'm, glad, i, went, with, the, patch,, i, have, been, on, it, for, 8, months., at, first, it, decreased, my, libido, but, that, subsided., the, only, downside, is, that, it, made, my, periods, longer, (5-6, days, to, be, exact), i, used, to, only, have, periods, for, 3-4, days, max, also, made, my, cramps, intense, for, the, first, two, days, of, my, period,, i, never, had, cramps, before, using, birth, control., other, than, that, in, happy, with, the, patch]                                                                                                                                                                                                                                                                                                                                                                                 |\n",
      "|Opiate Dependence           |Suboxone has completely turned my life around.  I feel healthier, I'm excelling at my job and I always have money in my pocket and my savings account.  I had none of those before Suboxone and spent years abusing oxycontin.  My paycheck was already spent by the time I got it and I started resorting to scheming and stealing to fund my addiction.  All that is history.  If you're ready to stop, there's a good chance that suboxone will put you on the path of great life again.  I have found the side-effects to be minimal compared to oxycontin.  I'm actually sleeping better.   Slight constipation is about it for me.  It truly is amazing. The cost pales in comparison to what I spent on oxycontin.                                                             |0.178|0.064|1    |[suboxone, has, completely, turned, my, life, around., , i, feel, healthier,, i'm, excelling, at, my, job, and, i, always, have, money, in, my, pocket, and, my, savings, account., , i, had, none, of, those, before, suboxone, and, spent, years, abusing, oxycontin., , my, paycheck, was, already, spent, by, the, time, i, got, it, and, i, started, resorting, to, scheming, and, stealing, to, fund, my, addiction., , all, that, is, history., , if, you're, ready, to, stop,, there's, a, good, chance, that, suboxone, will, put, you, on, the, path, of, great, life, again., , i, have, found, the, side-effects, to, be, minimal, compared, to, oxycontin., , i'm, actually, sleeping, better., , , slight, constipation, is, about, it, for, me., , it, truly, is, amazing., the, cost, pales, in, comparison, to, what, i, spent, on, oxycontin.]                                                                    |\n",
      "|Benign Prostatic Hyperplasia|2nd day on 5mg started to work with rock hard erections however experianced headache, lower bowel preassure. 3rd day erections would wake me up &amp; hurt! Leg/ankles aches   severe lower bowel preassure like you need to go #2 but can't! Enjoyed the initial rockhard erections but not at these side effects or $230 for months supply! I'm 50 &amp; work out 3Xs a week. Not worth side effects!                                                                                                                                                                                                                                                                                                                                                                               |0.023|0.218|0    |[2nd, day, on, 5mg, started, to, work, with, rock, hard, erections, however, experianced, headache,, lower, bowel, preassure., 3rd, day, erections, would, wake, me, up, &amp;, hurt!, leg/ankles, aches, , , severe, lower, bowel, preassure, like, you, need, to, go, #2, but, can't!, enjoyed, the, initial, rockhard, erections, but, not, at, these, side, effects, or, $230, for, months, supply!, i'm, 50, &amp;, work, out, 3xs, a, week., not, worth, side, effects!]                                                                                                                                                                                                                                                                                                                                                                                                                                                      |\n",
      "|Emergency Contraception     |He pulled out, but he cummed a bit in me. I took the Plan B 26 hours later, and took a pregnancy test two weeks later - - I'm pregnant.                                                                                                                                                                                                                                                                                                                                                                                                                                                                                                                                                                                                                                               |0.0  |0.0  |0    |[he, pulled, out,, but, he, cummed, a, bit, in, me., i, took, the, plan, b, 26, hours, later,, and, took, a, pregnancy, test, two, weeks, later, -, -, i'm, pregnant.]                                                                                                                                                                                                                                                                                                                                                                                                                                                                                                                                                                                                                                                                                                                                                              |\n",
      "|Bipolar Disorde             |Abilify changed my life. There is hope. I was on Zoloft and Clonidine when I first started Abilify at the age of 15.. Zoloft for depression and Clondine to manage my complete rage. My moods were out of control. I was depressed and hopeless one second and then mean, irrational, and full of rage the next. My Dr. prescribed me 2mg of Abilify and from that point on I feel like I have been cured though I know I'm not.. Bi-polar disorder is a constant battle. I know Abilify works for me because I have tried to get off it and lost complete control over my emotions. Went back on it and I was golden again.  I am on 5mg 2x daily. I am now 21 and better than I have ever been in the past. Only side effect is I like to eat a lot.                                |0.069|0.174|1    |[abilify, changed, my, life., there, is, hope., i, was, on, zoloft, and, clonidine, when, i, first, started, abilify, at, the, age, of, 15.., zoloft, for, depression, and, clondine, to, manage, my, complete, rage., my, moods, were, out, of, control., i, was, depressed, and, hopeless, one, second, and, then, mean,, irrational,, and, full, of, rage, the, next., my, dr., prescribed, me, 2mg, of, abilify, and, from, that, point, on, i, feel, like, i, have, been, cured, though, i, know, i'm, not.., bi-polar, disorder, is, a, constant, battle., i, know, abilify, works, for, me, because, i, have, tried, to, get, off, it, and, lost, complete, control, over, my, emotions., went, back, on, it, and, i, was, golden, again., , i, am, on, 5mg, 2x, daily., i, am, now, 21, and, better, than, i, have, ever, been, in, the, past., only, side, effect, is, i, like, to, eat, a, lot.]                          |\n",
      "|Epilepsy                    | I Ve had  nothing but problems with the Keppera : constant shaking in my arms &amp; legs &amp; pins &amp; needles feeling in my arms &amp; legs severe light headedness no appetite &amp; etc.                                                                                                                                                                                                                                                                                                                                                                                                                                                                                                                                                                                       |0.116|0.207|0    |[, i, ve, had, , nothing, but, problems, with, the, keppera, :, constant, shaking, in, my, arms, &amp;, legs, &amp;, pins, &amp;, needles, feeling, in, my, arms, &amp;, legs, severe, light, headedness, no, appetite, &amp;, etc.]                                                                                                                                                                                                                                                                                                                                                                                                                                                                                                                                                                                                                                                                                                |\n",
      "|Birth Control               |I had been on the pill for many years. When my doctor changed my RX to chateal, it was as effective. It really did help me by completely clearing my acne, this takes about 6 months though. I did not gain extra weight, or develop any emotional health issues. I stopped taking it bc I started using a more natural method of birth control, but started to take it bc I hate that my acne came back at age 28. I really hope symptoms like depression, or weight gain do not begin to affect me as I am older now. I'm also naturally moody, so this may worsen things. I was in a negative mental rut today. Also I hope this doesn't push me over the edge, as I believe I am depressed. Hopefully it'll be just like when I was younger.                                      |0.156|0.204|1    |[i, had, been, on, the, pill, for, many, years., when, my, doctor, changed, my, rx, to, chateal,, it, was, as, effective., it, really, did, help, me, by, completely, clearing, my, acne,, this, takes, about, 6, months, though., i, did, not, gain, extra, weight,, or, develop, any, emotional, health, issues., i, stopped, taking, it, bc, i, started, using, a, more, natural, method, of, birth, control,, but, started, to, take, it, bc, i, hate, that, my, acne, came, back, at, age, 28., i, really, hope, symptoms, like, depression,, or, weight, gain, do, not, begin, to, affect, me, as, i, am, older, now., i'm, also, naturally, moody,, so, this, may, worsen, things., i, was, in, a, negative, mental, rut, today., also, i, hope, this, doesn't, push, me, over, the, edge,, as, i, believe, i, am, depressed., hopefully, it'll, be, just, like, when, i, was, younger.]                                     |\n",
      "|Migraine Prevention         |I have been on this medication almost two weeks, started out on 25mg and working my way up to 100mg, currently at 50mg. No headaches at all so far and I was having 2-3 crippling migraines a week. I have lost 5.2lbs so far but note I am really paying close attention to what I am eating, I have a lot of weight to lose and if weight loss is a side effect I want to help it along as much as I can.  Now, other side effects, they are there the word recall issues exist, the memory issues, the worst of it seems to be the vision disturbances, there have been times I have just not driven because I'm sure it would not have been safe. The good news is it seems to be wearing off...I have tons of energy and I am in a great mood.                                   |0.138|0.132|1    |[i, have, been, on, this, medication, almost, two, weeks,, started, out, on, 25mg, and, working, my, way, up, to, 100mg,, currently, at, 50mg., no, headaches, at, all, so, far, and, i, was, having, 2-3, crippling, migraines, a, week., i, have, lost, 5.2lbs, so, far, but, note, i, am, really, paying, close, attention, to, what, i, am, eating,, i, have, a, lot, of, weight, to, lose, and, if, weight, loss, is, a, side, effect, i, want, to, help, it, along, as, much, as, i, can., , now,, other, side, effects,, they, are, there, the, word, recall, issues, exist,, the, memory, issues,, the, worst, of, it, seems, to, be, the, vision, disturbances,, there, have, been, times, i, have, just, not, driven, because, i'm, sure, it, would, not, have, been, safe., the, good, news, is, it, seems, to, be, wearing, off...i, have, tons, of, energy, and, i, am, in, a, great, mood.]                           |\n",
      "|Depression                  |I have taken anti-depressants for years, with some improvement but mostly moderate to severe side affects, which makes me go off them.\n",
      "\n",
      "I only take Cymbalta now mostly for pain.\n",
      "\n",
      "When I began Deplin, I noticed a major improvement overnight. More energy, better disposition, and no sinking to the low lows of major depression. I have been taking it for about 3 months now and feel like a normal person for the first time ever. Best thing, no side effects.                                                                                                                                                                                                                                                                                                                |0.214|0.223|1    |[i, have, taken, anti-depressants, for, years,, with, some, improvement, but, mostly, moderate, to, severe, side, affects,, which, makes, me, go, off, them., , i, only, take, cymbalta, now, mostly, for, pain., , when, i, began, deplin,, i, noticed, a, major, improvement, overnight., more, energy,, better, disposition,, and, no, sinking, to, the, low, lows, of, major, depression., i, have, been, taking, it, for, about, 3, months, now, and, feel, like, a, normal, person, for, the, first, time, ever., best, thing,, no, side, effects.]                                                                                                                                                                                                                                                                                                                                                                           |\n",
      "|Crohn's Disease             |I had Crohn's with a resection 30 years ago and have been mostly in remission since.  Have recently had a bad flare and narrowing at the anastomosis and need to be on medication, but haven't found one that I can handle.  Asacol gave me such serious body aching and fatigue that I could not function.  Pentasa immediately gave me heart palpitations and arrhythmias so I had to discontinue it.                                                                                                                                                                                                                                                                                                                                                                               |0.0  |0.151|0    |[i, had, crohn's, with, a, resection, 30, years, ago, and, have, been, mostly, in, remission, since., , have, recently, had, a, bad, flare, and, narrowing, at, the, anastomosis, and, need, to, be, on, medication,, but, haven't, found, one, that, i, can, handle., , asacol, gave, me, such, serious, body, aching, and, fatigue, that, i, could, not, function., , pentasa, immediately, gave, me, heart, palpitations, and, arrhythmias, so, i, had, to, discontinue, it.]                                                                                                                                                                                                                                                                                                                                                                                                                                                    |\n",
      "|Cough                       |Have a little bit of a lingering cough from a cold. Not giving me much trouble except keeps me up at night. I heard this was good so I took so I could get some sleep. Helped tremendously with the cough but then I was having bad stomach cramps and diarrhea. I hadn't eaten anything that should have upset my stomach and it didn't really feel like a &quot;bug&quot; so I looked up side effects for Delsym.  Now I wish I had done that first because I probably wouldn't have taken it. So, while it worked for my cough I still didn't get any sleep due to the stomach issues.                                                                                                                                                                                             |0.05 |0.133|0    |[have, a, little, bit, of, a, lingering, cough, from, a, cold., not, giving, me, much, trouble, except, keeps, me, up, at, night., i, heard, this, was, good, so, i, took, so, i, could, get, some, sleep., helped, tremendously, with, the, cough, but, then, i, was, having, bad, stomach, cramps, and, diarrhea., i, hadn't, eaten, anything, that, should, have, upset, my, stomach, and, it, didn't, really, feel, like, a, &quot;bug&quot;, so, i, looked, up, side, effects, for, delsym., , now, i, wish, i, had, done, that, first, because, i, probably, wouldn't, have, taken, it., so,, while, it, worked, for, my, cough, i, still, didn't, get, any, sleep, due, to, the, stomach, issues.]                                                                                                                                                                                                                           |\n",
      "|Birth Control               |Started Nexplanon 2 months ago because I have a minimal amount of contraception's I can take due to my inability to take the hormone that is used in most birth controls. I'm trying to give it time because it is one of my only options right now. But honestly if I had options I'd get it removed.\n",
      "I've never had acne problems in my life, and immediately broke out after getting it implanted. Sex drive is completely gone, and I used to have sex with my boyfriend a few days a week, now its completely forced and not even fun for me anymore. I mean I'm on birth control because I like having sex but don't want to get pregnant, why take a birth control that takes away sex? Very unhappy and hope that I get it back with time or I'm getting it removed.          |0.092|0.122|0    |[started, nexplanon, 2, months, ago, because, i, have, a, minimal, amount, of, contraception's, i, can, take, due, to, my, inability, to, take, the, hormone, that, is, used, in, most, birth, controls., i'm, trying, to, give, it, time, because, it, is, one, of, my, only, options, right, now., but, honestly, if, i, had, options, i'd, get, it, removed., i've, never, had, acne, problems, in, my, life,, and, immediately, broke, out, after, getting, it, implanted., sex, drive, is, completely, gone,, and, i, used, to, have, sex, with, my, boyfriend, a, few, days, a, week,, now, its, completely, forced, and, not, even, fun, for, me, anymore., i, mean, i'm, on, birth, control, because, i, like, having, sex, but, don't, want, to, get, pregnant,, why, take, a, birth, control, that, takes, away, sex?, very, unhappy, and, hope, that, i, get, it, back, with, time, or, i'm, getting, it, removed.]      |\n",
      "|Obesity                     |I have been taking Saxenda since July 2016.  I had severe nausea for about a month once I got up to the 2.6 dosage.  It has since subsided and the only side effect I notice now is the dry mouth.  I make sure to drink  2.5 litres of water a day (about 10 glasses).  This helps with the weight loss as well as the constipation.  I have been reducing my dose to find a comfortable spot where I am still losing weight but don't feel like I am over medicating.  For me, 1.8 is working very well.  I also feel wearing a Fitbit has really helped.  I can track my food, water, exercise and steps - it keeps me moving more.  When this started I could barely walk the length of myself without getting winded - I have lost 58 lbs so far.                                |0.074|0.08 |1    |[i, have, been, taking, saxenda, since, july, 2016., , i, had, severe, nausea, for, about, a, month, once, i, got, up, to, the, 2.6, dosage., , it, has, since, subsided, and, the, only, side, effect, i, notice, now, is, the, dry, mouth., , i, make, sure, to, drink, , 2.5, litres, of, water, a, day, (about, 10, glasses)., , this, helps, with, the, weight, loss, as, well, as, the, constipation., , i, have, been, reducing, my, dose, to, find, a, comfortable, spot, where, i, am, still, losing, weight, but, don't, feel, like, i, am, over, medicating., , for, me,, 1.8, is, working, very, well., , i, also, feel, wearing, a, fitbit, has, really, helped., , i, can, track, my, food,, water,, exercise, and, steps, -, it, keeps, me, moving, more., , when, this, started, i, could, barely, walk, the, length, of, myself, without, getting, winded, -, i, have, lost, 58, lbs, so, far.]                    |\n",
      "|Urinary Tract Infection     |This drug worked very well for me and cleared up my UTI in a matter of 48hrs, although I was on a 7 day course of 2x200mg/daily. Unfortunately once the tablets finished the infection returned so needed a 2nd course. I'm currently taking a low dose at evening to keep the infection at bay while the specialists do some tests.  I normally get every side effect going and dread taking new medication in any form especially after an horrific experience with Ciorofloxacin but the only side effect I experienced with this was itchy ankles and feet on day two but that didn't last into third day so I would class this as a minor side effect and insignificant. Good luck.                                                                                              |0.095|0.111|1    |[this, drug, worked, very, well, for, me, and, cleared, up, my, uti, in, a, matter, of, 48hrs,, although, i, was, on, a, 7, day, course, of, 2x200mg/daily., unfortunately, once, the, tablets, finished, the, infection, returned, so, needed, a, 2nd, course., i'm, currently, taking, a, low, dose, at, evening, to, keep, the, infection, at, bay, while, the, specialists, do, some, tests., , i, normally, get, every, side, effect, going, and, dread, taking, new, medication, in, any, form, especially, after, an, horrific, experience, with, ciorofloxacin, but, the, only, side, effect, i, experienced, with, this, was, itchy, ankles, and, feet, on, day, two, but, that, didn't, last, into, third, day, so, i, would, class, this, as, a, minor, side, effect, and, insignificant., good, luck.]                                                                                                                  |\n",
      "|ibromyalgia                 |I've been taking amitriptyline since January 2013 after being diagnosed with fibromyalgia. I tried cymbalta for a week and my Dr decided that since it kept me awake 24/7 that it wasn't a good fit for me even though it relieved my pain. I started with 25 mg. After 2 weeks I had some breakthrough pain, so my Dr increased my dosage to 50mg and I'm still on that dosage today. For the first full year I was on this I never had pain and felt 'cured'. As time went on, it seems to help control my pain. I do still have pain, but at a low manageable level. I take this around 7pm each evening to avoid feeling overly drowsy in the mornings. This med allows me to have a fairly normal life.                                                                          |0.052|0.144|1    |[i've, been, taking, amitriptyline, since, january, 2013, after, being, diagnosed, with, fibromyalgia., i, tried, cymbalta, for, a, week, and, my, dr, decided, that, since, it, kept, me, awake, 24/7, that, it, wasn't, a, good, fit, for, me, even, though, it, relieved, my, pain., i, started, with, 25, mg., after, 2, weeks, i, had, some, breakthrough, pain,, so, my, dr, increased, my, dosage, to, 50mg, and, i'm, still, on, that, dosage, today., for, the, first, full, year, i, was, on, this, i, never, had, pain, and, felt, 'cured'., as, time, went, on,, it, seems, to, help, control, my, pain., i, do, still, have, pain,, but, at, a, low, manageable, level., i, take, this, around, 7pm, each, evening, to, avoid, feeling, overly, drowsy, in, the, mornings., this, med, allows, me, to, have, a, fairly, normal, life.]                                                                                 |\n",
      "|Bipolar Disorde             |I've been on every medicine under the sun (it seems) to manage the hypomania / mania of Bipolar2. Within a few days of starting Lamictal (was on Tegretol) it was as if someone had turned a light on in my head. Is this the way &quot;normal&quot; people think? was one of the first things that struck me. I sleep like a log, have no irritability, almost no anger (other than what would be considered normal). I am able to focus and my creative, impulsive thoughts have decreased enough to be manageable. It's a God send as I would perennially be in a state of hypo mania, which sounds great, but I was physically and emotionally exhausted. My libido is markedly lower but I wonder if that is perhaps an effect of not being hypo manic. I take 20 mg for anxiety.|0.055|0.114|1    |[i've, been, on, every, medicine, under, the, sun, (it, seems), to, manage, the, hypomania, /, mania, of, bipolar2., within, a, few, days, of, starting, lamictal, (was, on, tegretol), it, was, as, if, someone, had, turned, a, light, on, in, my, head., is, this, the, way, &quot;normal&quot;, people, think?, was, one, of, the, first, things, that, struck, me., i, sleep, like, a, log,, have, no, irritability,, almost, no, anger, (other, than, what, would, be, considered, normal)., i, am, able, to, focus, and, my, creative,, impulsive, thoughts, have, decreased, enough, to, be, manageable., it's, a, god, send, as, i, would, perennially, be, in, a, state, of, hypo, mania,, which, sounds, great,, but, i, was, physically, and, emotionally, exhausted., my, libido, is, markedly, lower, but, i, wonder, if, that, is, perhaps, an, effect, of, not, being, hypo, manic., i, take, 20, mg, for, anxiety.]|\n",
      "|Chronic Myelogenous Leukemia|I have been on Tasigna for just over 3 years now (300mg x 2 times a day) Tasigna worked for me within a few weeks I have been in remission for basically the entire 3 years. As for the side effects, I feel sick to my stomach, tired,  severe leg and arm pain, I can't walk to long without needing a break, I went from working full time to not working at all because I am so tired all the time.... but hey I am in remission and alive so is all the above really a problem? Nope                                                                                                                                                                                                                                                                                             |0.036|0.15 |1    |[i, have, been, on, tasigna, for, just, over, 3, years, now, (300mg, x, 2, times, a, day), tasigna, worked, for, me, within, a, few, weeks, i, have, been, in, remission, for, basically, the, entire, 3, years., as, for, the, side, effects,, i, feel, sick, to, my, stomach,, tired,, , severe, leg, and, arm, pain,, i, can't, walk, to, long, without, needing, a, break,, i, went, from, working, full, time, to, not, working, at, all, because, i, am, so, tired, all, the, time...., but, hey, i, am, in, remission, and, alive, so, is, all, the, above, really, a, problem?, nope]                                                                                                                                                                                                                                                                                                                                       |\n",
      "+----------------------------+--------------------------------------------------------------------------------------------------------------------------------------------------------------------------------------------------------------------------------------------------------------------------------------------------------------------------------------------------------------------------------------------------------------------------------------------------------------------------------------------------------------------------------------------------------------------------------------------------------------------------------------------------------------------------------------------------------------------------------------------------------------------------------------+-----+-----+-----+------------------------------------------------------------------------------------------------------------------------------------------------------------------------------------------------------------------------------------------------------------------------------------------------------------------------------------------------------------------------------------------------------------------------------------------------------------------------------------------------------------------------------------------------------------------------------------------------------------------------------------------------------------------------------------------------------------------------------------------------------------------------------------------------------------------------------------------------------------------------------------------------------------------------------------+\n",
      "only showing top 20 rows\n",
      "\n"
     ]
    }
   ],
   "source": [
    "from pyspark.ml.feature import Tokenizer, StopWordsRemover, HashingTF, IDF\n",
    "# Create all the features to the data set\n",
    "tokenizer = Tokenizer(inputCol='review', outputCol='token_text')\n",
    "tokened_df = tokenizer.transform(tr_spark_df)\n",
    "tokened_df.show(truncate=False)"
   ]
  },
  {
   "cell_type": "code",
   "execution_count": 22,
   "metadata": {},
   "outputs": [],
   "source": [
    "stopremove = StopWordsRemover(inputCol='token_text', outputCol='stop_tokens')\n",
    "stop_df = stopremove.transform(tokened_df)"
   ]
  },
  {
   "cell_type": "code",
   "execution_count": 23,
   "metadata": {},
   "outputs": [],
   "source": [
    "hashingTF = HashingTF(inputCol=\"token_text\", outputCol='hash_token')\n",
    "hash_df = hashingTF.transform(stop_df)"
   ]
  },
  {
   "cell_type": "code",
   "execution_count": 24,
   "metadata": {},
   "outputs": [],
   "source": [
    "idf = IDF(inputCol='hash_token', outputCol='idf_token')\n",
    "idfModel = idf.fit(hash_df)\n",
    "idf_df = idfModel.transform(hash_df)\n"
   ]
  },
  {
   "cell_type": "code",
   "execution_count": 25,
   "metadata": {},
   "outputs": [
    {
     "name": "stdout",
     "output_type": "stream",
     "text": [
      "Wall time: 1.5 s\n"
     ]
    }
   ],
   "source": [
    "%%time\n",
    "from pyspark.ml.feature import VectorAssembler\n",
    "\n",
    "# Create feature vectors\n",
    "clean_up = VectorAssembler(inputCols=['idf_token'], outputCol='features')"
   ]
  },
  {
   "cell_type": "code",
   "execution_count": 26,
   "metadata": {},
   "outputs": [
    {
     "name": "stdout",
     "output_type": "stream",
     "text": [
      "Wall time: 0 ns\n"
     ]
    }
   ],
   "source": [
    "%%time\n",
    "# Create and run a data processing Pipeline\n",
    "from pyspark.ml import Pipeline\n",
    "data_prep_pipeline = Pipeline(stages=[tokenizer, stopremove, hashingTF, idf, clean_up])"
   ]
  },
  {
   "cell_type": "markdown",
   "metadata": {},
   "source": [
    "## Transform Dataframe"
   ]
  },
  {
   "cell_type": "code",
   "execution_count": 27,
   "metadata": {},
   "outputs": [
    {
     "name": "stdout",
     "output_type": "stream",
     "text": [
      "Wall time: 9.61 s\n"
     ]
    }
   ],
   "source": [
    "%%time\n",
    "# Fit and transform the pipeline\n",
    "cleaner = data_prep_pipeline.fit(tr_spark_df)\n",
    "cleaned = cleaner.transform(tr_spark_df)\n"
   ]
  },
  {
   "cell_type": "code",
   "execution_count": 28,
   "metadata": {},
   "outputs": [
    {
     "name": "stdout",
     "output_type": "stream",
     "text": [
      "+--------------------+--------------------+-----+-----+-----+--------------------+--------------------+--------------------+--------------------+--------------------+\n",
      "|           condition|              review|  pos|  neg|label|          token_text|         stop_tokens|          hash_token|           idf_token|            features|\n",
      "+--------------------+--------------------+-----+-----+-----+--------------------+--------------------+--------------------+--------------------+--------------------+\n",
      "|Left Ventricular ...|It has no side ef...|  0.0|0.136|    1|[it, has, no, sid...|[side, effect,, t...|(262144,[2325,462...|(262144,[2325,462...|(262144,[2325,462...|\n",
      "|                ADHD|My son is halfway...|0.111|0.018|    1|[my, son, is, hal...|[son, halfway, fo...|(262144,[2050,524...|(262144,[2050,524...|(262144,[2050,524...|\n",
      "|       Birth Control|I used to take an...|0.083|0.062|    0|[i, used, to, tak...|[used, take, anot...|(262144,[2325,728...|(262144,[2325,728...|(262144,[2325,728...|\n",
      "|       Birth Control|This is my first ...|0.093|0.027|    1|[this, is, my, fi...|[first, time, usi...|(262144,[9639,156...|(262144,[9639,156...|(262144,[9639,156...|\n",
      "|   Opiate Dependence|Suboxone has comp...|0.178|0.064|    1|[suboxone, has, c...|[suboxone, comple...|(262144,[2153,581...|(262144,[2153,581...|(262144,[2153,581...|\n",
      "+--------------------+--------------------+-----+-----+-----+--------------------+--------------------+--------------------+--------------------+--------------------+\n",
      "only showing top 5 rows\n",
      "\n"
     ]
    }
   ],
   "source": [
    "cleaned.show(5)"
   ]
  },
  {
   "cell_type": "code",
   "execution_count": 29,
   "metadata": {},
   "outputs": [],
   "source": [
    "# show rating and resulting features\n",
    "#cleaned.select(['label', 'features']).show(truncate=False)"
   ]
  },
  {
   "cell_type": "markdown",
   "metadata": {},
   "source": [
    "## Run NaiveBayes"
   ]
  },
  {
   "cell_type": "code",
   "execution_count": 30,
   "metadata": {},
   "outputs": [
    {
     "name": "stdout",
     "output_type": "stream",
     "text": [
      "Wall time: 1.14 s\n"
     ]
    }
   ],
   "source": [
    "%%time\n",
    "from pyspark.ml.classification import NaiveBayes\n",
    "# Break data into training and testing set\n",
    "(training, testing) = cleaned.randomSplit([0.7, 0.3])\n"
   ]
  },
  {
   "cell_type": "code",
   "execution_count": 31,
   "metadata": {},
   "outputs": [
    {
     "name": "stdout",
     "output_type": "stream",
     "text": [
      "+--------------------+--------------------+-----+-----+-----+--------------------+--------------------+--------------------+--------------------+--------------------+\n",
      "|           condition|              review|  pos|  neg|label|          token_text|         stop_tokens|          hash_token|           idf_token|            features|\n",
      "+--------------------+--------------------+-----+-----+-----+--------------------+--------------------+--------------------+--------------------+--------------------+\n",
      "|0</span> users fo...|Caused severe agi...|  0.0|0.806|    0|[caused, severe, ...|[caused, severe, ...|(262144,[18713,50...|(262144,[18713,50...|(262144,[18713,50...|\n",
      "|0</span> users fo...|I LOVE Hypercare!...|0.086|  0.0|    1|[i, love, hyperca...|[love, hypercare!...|(262144,[4081,828...|(262144,[4081,828...|(262144,[4081,828...|\n",
      "|0</span> users fo...|I am a 9-12 teach...|0.064|0.109|    1|[i, am, a, 9-12, ...|[9-12, teacher., ...|(262144,[5381,139...|(262144,[5381,139...|(262144,[5381,139...|\n",
      "|0</span> users fo...|I had Implanon in...|0.134|0.093|    1|[i, had, implanon...|[implanon, insert...|(262144,[3366,880...|(262144,[3366,880...|(262144,[3366,880...|\n",
      "|0</span> users fo...|I had Implanon pu...|0.117| 0.12|    1|[i, had, implanon...|[implanon, put, j...|(262144,[9521,140...|(262144,[9521,140...|(262144,[9521,140...|\n",
      "+--------------------+--------------------+-----+-----+-----+--------------------+--------------------+--------------------+--------------------+--------------------+\n",
      "only showing top 5 rows\n",
      "\n",
      "Wall time: 7.37 s\n"
     ]
    }
   ],
   "source": [
    "%%time\n",
    "training.show(5)"
   ]
  },
  {
   "cell_type": "markdown",
   "metadata": {},
   "source": [
    "## Create a NaiveBayes model and fit the training data"
   ]
  },
  {
   "cell_type": "code",
   "execution_count": 32,
   "metadata": {},
   "outputs": [
    {
     "name": "stdout",
     "output_type": "stream",
     "text": [
      "Wall time: 51.6 s\n"
     ]
    }
   ],
   "source": [
    "%%time\n",
    "nb = NaiveBayes(smoothing=1.0, modelType='multinomial')\n",
    "predictor = nb.fit(training)"
   ]
  },
  {
   "cell_type": "markdown",
   "metadata": {},
   "source": [
    "## Transform the model with test_data"
   ]
  },
  {
   "cell_type": "code",
   "execution_count": 33,
   "metadata": {},
   "outputs": [],
   "source": [
    "# Transform the model with test data\n",
    "test_results = predictor.transform(testing)\n",
    "#test_results.show(5)\n",
    "#test_results['review']"
   ]
  },
  {
   "cell_type": "markdown",
   "metadata": {},
   "source": [
    "## Predict accuracy of the model"
   ]
  },
  {
   "cell_type": "code",
   "execution_count": 34,
   "metadata": {},
   "outputs": [
    {
     "name": "stdout",
     "output_type": "stream",
     "text": [
      "Accuracy of model at predicting reviews was: 0.820921\n"
     ]
    }
   ],
   "source": [
    "# Use the class evaluator for a cleaner description\n",
    "# https://spark.apache.org/docs/latest/mllib-naive-bayes.html\n",
    "from pyspark.ml.evaluation import MulticlassClassificationEvaluator\n",
    "acc_eval = MulticlassClassificationEvaluator()\n",
    "acc = acc_eval.evaluate(test_results)\n",
    "print(\"Accuracy of model at predicting reviews was: %f\" % acc)"
   ]
  },
  {
   "cell_type": "markdown",
   "metadata": {},
   "source": [
    "## Save the model to disk"
   ]
  },
  {
   "cell_type": "code",
   "execution_count": 35,
   "metadata": {},
   "outputs": [
    {
     "name": "stdout",
     "output_type": "stream",
     "text": [
      "Wall time: 7.9 s\n"
     ]
    }
   ],
   "source": [
    "%%time\n",
    "# Save and load model\n",
    "import shutil\n",
    "output_dir = './myNaiveBayesModel'\n",
    "shutil.rmtree(output_dir, ignore_errors=True)\n",
    "predictor.save(output_dir)"
   ]
  },
  {
   "cell_type": "markdown",
   "metadata": {},
   "source": [
    "## Prediction using New Test data(Online Drug reviews)"
   ]
  },
  {
   "cell_type": "markdown",
   "metadata": {},
   "source": [
    "## Load the saved model from disk"
   ]
  },
  {
   "cell_type": "code",
   "execution_count": 36,
   "metadata": {},
   "outputs": [
    {
     "name": "stdout",
     "output_type": "stream",
     "text": [
      "Wall time: 1.25 s\n"
     ]
    }
   ],
   "source": [
    "%%time\n",
    "# load the model from disk\n",
    "from pyspark.mllib.classification import NaiveBayes, NaiveBayesModel\n",
    "#drug_model = NaiveBayesModel.load(sc,output_dir)"
   ]
  },
  {
   "cell_type": "markdown",
   "metadata": {},
   "source": [
    "**Test with a new online reviews**"
   ]
  },
  {
   "cell_type": "markdown",
   "metadata": {},
   "source": [
    "**Defining a function transform the new test string**"
   ]
  },
  {
   "cell_type": "code",
   "execution_count": 43,
   "metadata": {},
   "outputs": [],
   "source": [
    "def check_review(test_review):\n",
    "    d = {'review': test_review, 'pos': '', 'neg': \"\"}\n",
    "    df = pd.DataFrame(d, index=[0])\n",
    "    #Analyze Sentiment and Populate DataFrame. \n",
    "    analyzer = SentimentIntensityAnalyzer()\n",
    "    for index, row in df.iterrows():\n",
    "        scores = analyzer.polarity_scores(row[0])\n",
    "        print(scores)\n",
    "        pos = scores['pos']\n",
    "        neg = scores['neg']\n",
    "        row[1] = pos\n",
    "        row[2] = neg\n",
    "    #Convert to Spark DataFrame.\n",
    "    sdf = spark.createDataFrame(df)\n",
    "\n",
    "    #Fit & Clean Spark DataFrame \n",
    "    cleaned_sdf = cleaner.transform(sdf)\n",
    "    cleaned_sdf.show()\n",
    "    print(type(predictor))\n",
    "\n",
    "    #Perform Prediction and Print results.\n",
    "    pc_results = predictor.transform(cleaned_sdf)\n",
    "    pc_results.select('probability', 'prediction').show(truncate=False)\n",
    "    print(\"1 = Seems positive review, 0 = Seems negative feedback\")\n",
    "\n",
    "    response = \"\"\n",
    "    prediction = pc_results.select('prediction').rdd.map(lambda row : row[0]).collect()[0]\n",
    "    probability = pc_results.select('probability').rdd.map(lambda row : row[0]).collect()[0]\n",
    "    print(pc_results.select('prediction').rdd.map(lambda row : row[0]).collect())\n",
    "    probability_bad = probability[0]\n",
    "    probability_good = probability[1]\n",
    "\n",
    "    if prediction == 0 and probability_bad >= .75:\n",
    "        response = f\"Hey, Seems the user didn't have great experience with this drug as ample evidence of unhappiness Reliability: {round(probability_bad*100)}% \"\n",
    "    elif prediction == 1 and probability_good >= .75:\n",
    "        response = f\"Everything is looking good over here! Reliability: {round(probability_good*100)}% \"\n",
    "    else:\n",
    "        response = f\"Sorry, the analysis is not confident enough to render a reliabile decision with the given text. Please try a longer submission.\"\n",
    "            \n",
    "\n",
    "    return response\n",
    "\n",
    "\n"
   ]
  },
  {
   "cell_type": "markdown",
   "metadata": {},
   "source": [
    "## Test Case-1"
   ]
  },
  {
   "cell_type": "code",
   "execution_count": 44,
   "metadata": {},
   "outputs": [
    {
     "name": "stdout",
     "output_type": "stream",
     "text": [
      "{'neg': 0.199, 'neu': 0.55, 'pos': 0.251, 'compound': 0.4576}\n",
      "+--------------------+-----+-----+--------------------+--------------------+--------------------+--------------------+--------------------+\n",
      "|              review|  pos|  neg|          token_text|         stop_tokens|          hash_token|           idf_token|            features|\n",
      "+--------------------+-----+-----+--------------------+--------------------+--------------------+--------------------+--------------------+\n",
      "|This medication i...|0.251|0.199|[this, medication...|[medication, fant...|(262144,[13081,15...|(262144,[13081,15...|(262144,[13081,15...|\n",
      "+--------------------+-----+-----+--------------------+--------------------+--------------------+--------------------+--------------------+\n",
      "\n",
      "<class 'pyspark.ml.classification.NaiveBayesModel'>\n",
      "+------------------------------------------+----------+\n",
      "|probability                               |prediction|\n",
      "+------------------------------------------+----------+\n",
      "|[1.1636114342286824E-5,0.9999883638856576]|1.0       |\n",
      "+------------------------------------------+----------+\n",
      "\n",
      "1 = Seems positive review, 0 = Seems negative feedback\n",
      "[1.0]\n",
      "Everything is looking good over here! Reliability: 100.0% \n"
     ]
    }
   ],
   "source": [
    "test_review = 'This medication is fantastic pain has almost disappeared and it also helps with sleep problems. The only thing I have noticed is weight gain, has anyone experienced this?'\n",
    "print(check_review(test_review))"
   ]
  },
  {
   "cell_type": "markdown",
   "metadata": {},
   "source": [
    "## Test Case - 2"
   ]
  },
  {
   "cell_type": "code",
   "execution_count": 45,
   "metadata": {},
   "outputs": [
    {
     "name": "stdout",
     "output_type": "stream",
     "text": [
      "{'neg': 0.199, 'neu': 0.55, 'pos': 0.251, 'compound': 0.4576}\n",
      "+--------------------+-----+-----+--------------------+--------------------+--------------------+--------------------+--------------------+\n",
      "|              review|  pos|  neg|          token_text|         stop_tokens|          hash_token|           idf_token|            features|\n",
      "+--------------------+-----+-----+--------------------+--------------------+--------------------+--------------------+--------------------+\n",
      "|This medication i...|0.251|0.199|[this, medication...|[medication, fant...|(262144,[13081,15...|(262144,[13081,15...|(262144,[13081,15...|\n",
      "+--------------------+-----+-----+--------------------+--------------------+--------------------+--------------------+--------------------+\n",
      "\n",
      "<class 'pyspark.ml.classification.NaiveBayesModel'>\n",
      "+------------------------------------------+----------+\n",
      "|probability                               |prediction|\n",
      "+------------------------------------------+----------+\n",
      "|[1.1636114342286824E-5,0.9999883638856576]|1.0       |\n",
      "+------------------------------------------+----------+\n",
      "\n",
      "1 = Seems positive review, 0 = Seems negative feedback\n",
      "[1.0]\n",
      "Everything is looking good over here! Reliability: 100.0% \n"
     ]
    }
   ],
   "source": [
    "test_string = \"I have only been taking this medication for a week and I am noticing side effects I don't like. I have not been able to sleep properly. I wake up very frequently thorughout the night. I am currently experiencing flu like symptoms and feel feverish. I need to call my doctor to see if these effects would disappear eventually. I am worried and very unhappy.\"\n",
    "print(check_review(test_review))"
   ]
  },
  {
   "cell_type": "markdown",
   "metadata": {},
   "source": [
    "## Test Case -3"
   ]
  },
  {
   "cell_type": "code",
   "execution_count": 46,
   "metadata": {},
   "outputs": [
    {
     "name": "stdout",
     "output_type": "stream",
     "text": [
      "{'neg': 0.259, 'neu': 0.741, 'pos': 0.0, 'compound': -0.5023}\n",
      "+--------------------+---+-----+--------------------+--------------------+--------------------+--------------------+--------------------+\n",
      "|              review|pos|  neg|          token_text|         stop_tokens|          hash_token|           idf_token|            features|\n",
      "+--------------------+---+-----+--------------------+--------------------+--------------------+--------------------+--------------------+\n",
      "|Some problems wit...|0.0|0.259|[some, problems, ...|[problems, itchy,...|(262144,[16332,19...|(262144,[16332,19...|(262144,[16332,19...|\n",
      "+--------------------+---+-----+--------------------+--------------------+--------------------+--------------------+--------------------+\n",
      "\n",
      "<class 'pyspark.ml.classification.NaiveBayesModel'>\n",
      "+------------------------------------------+----------+\n",
      "|probability                               |prediction|\n",
      "+------------------------------------------+----------+\n",
      "|[0.9999999990296005,9.703996330523422E-10]|0.0       |\n",
      "+------------------------------------------+----------+\n",
      "\n",
      "1 = Seems positive review, 0 = Seems negative feedback\n",
      "[0.0]\n",
      "Hey, Seems the user didn't have great experience with this drug as ample evidence of unhappiness Reliability: 100.0% \n"
     ]
    }
   ],
   "source": [
    "test_review = \"Some problems with itchy rash but not enough for the doctor to discontinue. I must take with benadryl though.\"\n",
    "print(check_review(test_review))"
   ]
  },
  {
   "cell_type": "code",
   "execution_count": null,
   "metadata": {},
   "outputs": [],
   "source": []
  },
  {
   "cell_type": "code",
   "execution_count": null,
   "metadata": {},
   "outputs": [],
   "source": []
  }
 ],
 "metadata": {
  "kernelspec": {
   "display_name": "Python 3",
   "language": "python",
   "name": "python3"
  },
  "language_info": {
   "codemirror_mode": {
    "name": "ipython",
    "version": 3
   },
   "file_extension": ".py",
   "mimetype": "text/x-python",
   "name": "python",
   "nbconvert_exporter": "python",
   "pygments_lexer": "ipython3",
   "version": "3.7.4"
  }
 },
 "nbformat": 4,
 "nbformat_minor": 2
}
